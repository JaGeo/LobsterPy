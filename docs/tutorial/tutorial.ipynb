{
 "cells": [
  {
   "cell_type": "markdown",
   "id": "0ea5fe17",
   "metadata": {},
   "source": [
    "# Python interface"
   ]
  },
  {
   "cell_type": "markdown",
   "id": "aa1a414b",
   "metadata": {},
   "source": [
    "For this tutorial, we will use the [test data](https://github.com/JaGeo/LobsterPy/tests/test_data) that can be downloaded from our git repository using the following commands.\n",
    "\n",
    "```bash\n",
    "git clone --filter=blob:none --no-checkout https://github.com/JaGeo/LobsterPy.git\n",
    "cd LobsterPy\n",
    "git sparse-checkout set tests/test_data\n",
    "git read-tree -mu HEAD\n",
    "```"
   ]
  },
  {
   "cell_type": "markdown",
   "id": "1b224947",
   "metadata": {},
   "source": [
    "## Usage of Analysis, Description class and automatic plotting"
   ]
  },
  {
   "cell_type": "markdown",
   "id": "ac74798d",
   "metadata": {},
   "source": [
    "### Basic usage : Analysis, Description\n",
    "\n",
    "Lets first import the necessary modules"
   ]
  },
  {
   "cell_type": "code",
   "execution_count": null,
   "id": "1ed178c0",
   "metadata": {
    "hide_input": false
   },
   "outputs": [],
   "source": [
    "from pathlib import Path\n",
    "\n",
    "from pexpect.replwrap import python\n",
    "\n",
    "from lobsterpy.cohp.analyze import Analysis\n",
    "from lobsterpy.cohp.describe import Description\n",
    "import warnings\n",
    "warnings.filterwarnings('ignore')"
   ]
  },
  {
   "cell_type": "code",
   "execution_count": null,
   "id": "b26e3796",
   "metadata": {
    "tags": [
     "remove-cell"
    ]
   },
   "outputs": [],
   "source": [
    "# Directory of your VASP and Lobster computations\n",
    "directory = Path(\".\") / \"..\" / \"..\" / \"tests\" / \"test_data\" / \"CdF_comp_range\""
   ]
  },
  {
   "cell_type": "markdown",
   "id": "a9a4164c",
   "metadata": {},
   "source": [
    "```python\n",
    "#### Change directory to your Lobster computations (Change this cell block type to Code and remove formatting when executing locally)\n",
    "directory = Path(\"LobsterPy\") / \"tests\" / \"test_data\" / \"CdF_comp_range\"\n",
    "```"
   ]
  },
  {
   "cell_type": "code",
   "execution_count": null,
   "id": "a0ebf615",
   "metadata": {},
   "outputs": [],
   "source": [
    "# Initialize Analysis object\n",
    "analyse = Analysis(\n",
    "    path_to_poscar=directory / \"CONTCAR.gz\",\n",
    "    path_to_icohplist=directory / \"ICOHPLIST.lobster.gz\",\n",
    "    path_to_cohpcar=directory / \"COHPCAR.lobster.gz\",\n",
    "    path_to_charge=directory / \"CHARGE.lobster.gz\",\n",
    "    which_bonds=\"cation-anion\",\n",
    ")"
   ]
  },
  {
   "cell_type": "code",
   "execution_count": null,
   "id": "9db2ca46",
   "metadata": {},
   "outputs": [],
   "source": [
    "# Initialize Description object and to get text description of the analysis\n",
    "describe = Description(analysis_object=analyse)\n",
    "describe.write_description()"
   ]
  },
  {
   "cell_type": "code",
   "execution_count": null,
   "id": "c7244804",
   "metadata": {},
   "outputs": [],
   "source": [
    "# Get static plots for detected relevant bonds\n",
    "describe.plot_cohps(ylim=[-10, 2], xlim=[-4, 4])"
   ]
  },
  {
   "cell_type": "code",
   "execution_count": null,
   "id": "b2b1f822",
   "metadata": {
    "tags": [
     "remove-output"
    ]
   },
   "outputs": [],
   "source": [
    "# Get interactive plots of relevant bonds, \n",
    "\n",
    "# Setting label_resolved arg to True will plot each COHP curve separately, alongside summed COHP for the bonds.\n",
    "fig = describe.plot_interactive_cohps(label_resolved=True, hide=True)\n",
    "fig.show(renderer='notebook')"
   ]
  },
  {
   "cell_type": "markdown",
   "id": "bdeb0f37",
   "metadata": {
    "raw_mimetype": "text/restructuredtext"
   },
   "source": [
    "Due to sphinx rendering limitations for Plotly figures, the output is not directly visible within the notebook; please use the link to see the [interactive label resolved plot](tutorial_assets/CdF2.html)"
   ]
  },
  {
   "cell_type": "code",
   "execution_count": null,
   "id": "0dff40f8",
   "metadata": {},
   "outputs": [],
   "source": [
    "# Dict summarizing the automatic analysis results\n",
    "analyse.condensed_bonding_analysis"
   ]
  },
  {
   "cell_type": "code",
   "execution_count": null,
   "id": "f243f239",
   "metadata": {},
   "outputs": [],
   "source": [
    "# Dict with bonds identified\n",
    "analyse.final_dict_bonds"
   ]
  },
  {
   "cell_type": "code",
   "execution_count": null,
   "id": "0e9cd6e6",
   "metadata": {},
   "outputs": [],
   "source": [
    "# Dict with ions and their co-ordination environments\n",
    "analyse.final_dict_ions"
   ]
  },
  {
   "cell_type": "markdown",
   "id": "69e47886",
   "metadata": {},
   "source": [
    ":::{note}\n",
    "You can also perform automatic analysis using `COBICAR(ICOBILIST.lobster)` or `COOPCAR(ICOOPLIST.lobster)`. You would need to set `are_cobis`/`are_coops` to `True` depending on the type of file you decide to analyze when you initialize the Analysis object. Change the default `noise_cutoff` value to 0.001 or lower, as ICOOP and ICOBI typically have smaller values and different units than ICOHP. Below is an example code snippet.\n",
    ":::\n",
    "\n",
    "```python\n",
    "analyse = Analysis(\n",
    "    path_to_poscar=directory / \"CONTCAR.gz\",\n",
    "    path_to_icohplist=directory / \"ICOBILIST.lobster.gz\",\n",
    "    path_to_cohpcar=directory / \"COBICAR.lobster.gz\",\n",
    "    path_to_charge=directory / \"CHARGE.lobster.gz\",\n",
    "    which_bonds=\"cation-anion\",\n",
    "    are_cobis=True,\n",
    "    noise_cutoff=0.001,\n",
    ")\n",
    "```\n",
    "\n",
    "Accessing other results is the same as the above."
   ]
  },
  {
   "cell_type": "markdown",
   "id": "f82ecbe9",
   "metadata": {},
   "source": [
    "### Advanced usage : Analysis, Description"
   ]
  },
  {
   "cell_type": "markdown",
   "id": "5772c114",
   "metadata": {},
   "source": [
    "LobsterPy now also allows for automatic orbital-wise analysis and plotting of COHPs, COBIs, and COOPs. To switch on orbital-wise analysis, one must set `orbital_resolved` arg to `True`. By default, orbitals contributing 5% or more relative to summed ICOHPs are considered in the analysis. One can change this default threshold using the `orbital_cutoff` argument. Here, we will set this cutoff value to 3%."
   ]
  },
  {
   "cell_type": "code",
   "execution_count": null,
   "id": "77f40ef2",
   "metadata": {},
   "outputs": [],
   "source": [
    "analyse = Analysis(\n",
    "    path_to_poscar=directory / \"CONTCAR.gz\",\n",
    "    path_to_icohplist=directory / \"ICOHPLIST.lobster.gz\",\n",
    "    path_to_cohpcar=directory / \"COHPCAR.lobster.gz\",\n",
    "    path_to_charge=directory / \"CHARGE.lobster.gz\",\n",
    "    which_bonds=\"cation-anion\",\n",
    "    orbital_resolved=True,\n",
    "    orbital_cutoff=0.03,\n",
    ")"
   ]
  },
  {
   "cell_type": "code",
   "execution_count": null,
   "id": "861da67a",
   "metadata": {},
   "outputs": [],
   "source": [
    "# Access the dict summarizing the results including orbital-wise analysis data \n",
    "analyse.condensed_bonding_analysis"
   ]
  },
  {
   "cell_type": "markdown",
   "id": "4f504fb4",
   "metadata": {},
   "source": [
    "In the above output, you will now see a key named `orbital_data` associated with each relevant bond identified. The `orbital_summary_stats` key contains the orbitals that contribute the most to the bonding and antibonding interactions, and values are reported there in percent."
   ]
  },
  {
   "cell_type": "markdown",
   "id": "8be302fe",
   "metadata": {},
   "source": [
    ":::{note}\n",
    "You can get plots from orbital resolved analysis only when `orbital_resolved` arg to `True` when initializing the Analysis object. If this is not done, you will run into errors. Also, only the interactive plotter will plot the results of orbital resolved analysis, as static plots will not be much readable. In any case, you can generate static plots if you need to. You will learn how to use the plotters available in LobsterPy further in the Plotter usage section of the tutorial.\n",
    ":::"
   ]
  },
  {
   "cell_type": "code",
   "execution_count": null,
   "id": "17190525",
   "metadata": {},
   "outputs": [],
   "source": [
    "# Initialize the Description object\n",
    "describe = Description(analysis_object=analyse)\n",
    "describe.write_description()"
   ]
  },
  {
   "cell_type": "code",
   "execution_count": null,
   "id": "84f26141",
   "metadata": {
    "tags": [
     "remove-output"
    ]
   },
   "outputs": [],
   "source": [
    "# Automatic interactive plots\n",
    "fig = describe.plot_interactive_cohps(orbital_resolved=True, ylim=[-15,5], hide=True)\n",
    "fig.show(renderer='notebook')"
   ]
  },
  {
   "cell_type": "markdown",
   "id": "ca2be8d8",
   "metadata": {
    "raw_mimetype": "text/restructuredtext"
   },
   "source": [
    "Due to sphinx rendering limitations for Plotly figures, the output is not directly visible within the notebook; please use the link to see the [interactive orbital resolved plot](tutorial_assets/CdF2_orb.html)"
   ]
  },
  {
   "cell_type": "markdown",
   "id": "0084ec1a",
   "metadata": {},
   "source": [
    "### Get LOBSTER calculation quality and description\n",
    "\n",
    "This utility provides a quick overview of your LOBSTER calculation quality by reading the charge spilling and band overlaps file (if these are generated during LOBSTER runs). Optionally, one can obtain atom charge classification comparisons with the BVA method and a comparison between DOS from LOBSTER and VASP.\n",
    "\n",
    ":::{note}\n",
    "The DOS comparisons and basis set utilized analysis are now limited to VASP calculations only. Support for other code output will be added in the future.\n",
    ":::"
   ]
  },
  {
   "cell_type": "code",
   "execution_count": null,
   "id": "051a9998",
   "metadata": {
    "tags": [
     "remove-cell"
    ]
   },
   "outputs": [],
   "source": [
    "# Directory to your VASP and Lobster computations\n",
    "directory = Path(\".\") / \"..\" / \"..\" / \"tests\" / \"test_data\" / \"K3Sb\""
   ]
  },
  {
   "cell_type": "markdown",
   "id": "39c2f183",
   "metadata": {},
   "source": [
    "```python\n",
    "#### Change directory to your Lobster computations (Change this cell block type to Code and remove formatting when executing locally)\n",
    "directory = Path(\"LobsterPy\") / \"tests\" / \"test_data\" / \"K3Sb\"\n",
    "```"
   ]
  },
  {
   "cell_type": "code",
   "execution_count": null,
   "id": "f67b4bc6",
   "metadata": {},
   "outputs": [],
   "source": [
    "# Get calculation quality summary dict\n",
    "calc_quality_K3Sb = Analysis.get_lobster_calc_quality_summary(\n",
    "            path_to_poscar=directory / \"CONTCAR.gz\",\n",
    "            path_to_charge=directory / \"CHARGE.lobster.gz\",\n",
    "            path_to_lobsterin=directory / \"lobsterin.gz\",\n",
    "            path_to_lobsterout=directory / \"lobsterout.gz\",\n",
    "            potcar_symbols=[\"K_sv\", \"Sb\"], # if POTCAR exists, then provide path_to_potcar and set this to None \n",
    "            path_to_bandoverlaps=directory / \"bandOverlaps.lobster.gz\",\n",
    "            dos_comparison=True, # set to false to disable DOS comparisons \n",
    "            bva_comp=True, # set to false to disable LOBSTER charge classification comparisons with BVA method\n",
    "            path_to_doscar=directory / \"DOSCAR.LSO.lobster.gz\",\n",
    "            e_range=[-20, 0],\n",
    "            path_to_vasprun=directory / \"vasprun.xml.gz\",\n",
    "            n_bins=256,\n",
    "        )\n",
    "calc_quality_K3Sb"
   ]
  },
  {
   "cell_type": "code",
   "execution_count": null,
   "id": "0f11cac6",
   "metadata": {},
   "outputs": [],
   "source": [
    "# Get a text description from calculation quality summary dictionary\n",
    "calc_quality_k3sb_des = Description.get_calc_quality_description(\n",
    "            calc_quality_K3Sb\n",
    "        )\n",
    "Description.write_calc_quality_description(calc_quality_k3sb_des)"
   ]
  },
  {
   "cell_type": "markdown",
   "id": "df3591f0",
   "metadata": {},
   "source": [
    "## Using plotting utilities"
   ]
  },
  {
   "cell_type": "code",
   "execution_count": null,
   "id": "f6687ef3",
   "metadata": {},
   "outputs": [],
   "source": [
    "from matplotlib import style\n",
    "from pymatgen.io.lobster import Doscar, Icohplist\n",
    "from lobsterpy.featurize.core import FeaturizeIcoxxlist\n",
    "from lobsterpy.plotting import InteractiveCohpPlotter, IcohpDistancePlotter, PlainCohpPlotter, PlainDosPlotter, get_style_list"
   ]
  },
  {
   "cell_type": "markdown",
   "id": "62d7d703",
   "metadata": {},
   "source": [
    "You can alter the appearance of the static plots using the style sheet that comes with LobsterPy or use any of the readily available matplotlib style sheets."
   ]
  },
  {
   "cell_type": "markdown",
   "id": "b965fdce",
   "metadata": {},
   "source": [
    "### Plot COHPs / COBIS / COOPs from Analysis object\n",
    "\n",
    "The `are_cobis`/`are_coops` arg must be set to `True` in the plotter depending on the type of files you analyze or want to plot. Here, we will keep them false as we are plotting COHPs."
   ]
  },
  {
   "cell_type": "code",
   "execution_count": null,
   "id": "5eca8c7c",
   "metadata": {},
   "outputs": [],
   "source": [
    "# Using PlainCohpPlotter to get static plots of relevant bonds from Analysis object\n",
    "\n",
    "style.use(get_style_list()[0]) # Use the LobsterPy style sheet for the generated plots\n",
    "\n",
    "cohp_plot_static = PlainCohpPlotter(are_cobis=False, are_coops=False)\n",
    "for plot_label, label_list in analyse.get_site_bond_resolved_labels().items():\n",
    "    cohp = analyse.chemenv.completecohp.get_summed_cohp_by_label_list(label_list=label_list)\n",
    "    cohp_plot_static.add_cohp(plot_label, cohp)\n",
    "cohp_plot_static.get_plot(ylim=[-15,2]);"
   ]
  },
  {
   "cell_type": "markdown",
   "id": "ffc87f04",
   "metadata": {},
   "source": [
    ":::{note}\n",
    "You can get plots from orbital resolved analysis only when `orbital_resolved` arg is set to `True` when initializing the Analysis object.\n",
    ":::"
   ]
  },
  {
   "cell_type": "code",
   "execution_count": null,
   "id": "a7a454c5",
   "metadata": {},
   "outputs": [],
   "source": [
    "label_list"
   ]
  },
  {
   "cell_type": "code",
   "execution_count": null,
   "id": "750935ed",
   "metadata": {},
   "outputs": [],
   "source": [
    "# Using PlainCohpPlotter to get static plots of relevant orbitals COHPs from Analysis object\n",
    "\n",
    "style.use('default') # Complete reset the matplotlib figure style\n",
    "style.use('seaborn-v0_8-ticks') # use one of the existing matplotlib style sheet\n",
    "\n",
    "cohp_plot_static = PlainCohpPlotter()\n",
    "for plot_label , orb_data in analyse.get_site_orbital_resolved_labels().items():\n",
    "    for orb, plot_data in orb_data.items():\n",
    "        mapped_bond_labels = [\n",
    "                        item for item in plot_data[\"bond_labels\"] for _ in range(len(plot_data[\"relevant_sub_orbitals\"]))\n",
    "                    ]\n",
    "        cohp = analyse.chemenv.completecohp.get_summed_cohp_by_label_and_orbital_list(label_list=mapped_bond_labels, \n",
    "                                                                                      orbital_list=plot_data[\"relevant_sub_orbitals\"] * \n",
    "                                                                                      len(plot_data[\"bond_labels\"]))\n",
    "        cohp_plot_static.add_cohp(orb, cohp)\n",
    "cohp_plot_static.get_plot(ylim=[-15,2]);"
   ]
  },
  {
   "cell_type": "code",
   "execution_count": null,
   "id": "80462ffb",
   "metadata": {},
   "outputs": [],
   "source": [
    "# Using interactive plotter to add relevant cohps\n",
    "interactive_cohp_plot = InteractiveCohpPlotter()"
   ]
  },
  {
   "cell_type": "code",
   "execution_count": null,
   "id": "819090a7",
   "metadata": {},
   "outputs": [],
   "source": [
    "interactive_cohp_plot.add_all_relevant_cohps(analyse=analyse, label_resolved=False,orbital_resolved=True,suffix='')"
   ]
  },
  {
   "cell_type": "code",
   "execution_count": null,
   "id": "aa76b7ff",
   "metadata": {
    "tags": [
     "remove-output"
    ]
   },
   "outputs": [],
   "source": [
    "fig = interactive_cohp_plot.get_plot()\n",
    "fig.show(renderer='notebook')"
   ]
  },
  {
   "cell_type": "markdown",
   "id": "d1657035",
   "metadata": {
    "raw_mimetype": "text/restructuredtext"
   },
   "source": [
    "Due to sphinx rendering limitations for Plotly figures, the output is not directly visible within the notebook; please use the link to see the [interactive orbital resolved plot](tutorial_assets/CdF2_orb.html)"
   ]
  },
  {
   "cell_type": "markdown",
   "id": "b93a38e5-7a1b-4b95-a580-82c81c2a8937",
   "metadata": {},
   "source": [
    "### Plot ICOHPs / ICOBIS / ICOOPs Againsts bond-lengths"
   ]
  },
  {
   "cell_type": "code",
   "execution_count": null,
   "id": "25fa1eff-a3de-4126-8349-bc932cb23efb",
   "metadata": {
    "tags": [
     "remove-cell"
    ]
   },
   "outputs": [],
   "source": [
    "# Directory of your VASP and Lobster computations\n",
    "directory = Path(\".\") / \"..\" / \"..\" / \"tests\" / \"test_data\" / \"CdF_comp_range\""
   ]
  },
  {
   "cell_type": "markdown",
   "id": "e47e4de6-879a-4d32-802d-a0c418403c76",
   "metadata": {
    "editable": true,
    "slideshow": {
     "slide_type": ""
    },
    "tags": []
   },
   "source": [
    "```python\n",
    "#### Change directory to your Lobster computations (Change this cell block type to Code and remove formatting when executing locally)\n",
    "directory = Path(\"LobsterPy\") / \"tests\" / \"test_data\" / \"CdF_comp_range\"\n",
    "```"
   ]
  },
  {
   "cell_type": "code",
   "execution_count": null,
   "id": "3fa696e7-55b7-4537-9cf8-c7511b4a5447",
   "metadata": {},
   "outputs": [],
   "source": [
    "# Plotting ICOHPs against distance\n",
    "\n",
    "icohp_plotter = IcohpDistancePlotter(are_cobis=False, are_coops=False) # If reading and plotting ICOBIs or ICOOPs set args accordingly\n",
    "icohplist = Icohplist(filename=directory / \"ICOHPLIST.lobster.gz\", are_cobis=False, are_coops=False)\n",
    "icohp_plotter.add_icohps(label=\"CdF2\", icohpcollection=icohplist.icohpcollection)\n",
    "\n",
    "# color_interactions=False, will disable datapoints colouring based on atom pair types\n",
    "icohp_plotter.get_plot(color_interactions=True, marker_size=20, alpha=0.9);"
   ]
  },
  {
   "cell_type": "code",
   "execution_count": null,
   "id": "a2aebbe1-00bd-45e6-a2fc-76b6f77cb757",
   "metadata": {},
   "outputs": [],
   "source": [
    "# Computing and Plotting BWDFs from ICOHPs\n",
    "\n",
    "## We will use the featurizer to compute the BWDF \n",
    "feat_icoxx = FeaturizeIcoxxlist(path_to_icoxxlist=directory / \"ICOHPLIST.lobster.gz\",\n",
    "                               path_to_structure=directory / \"CONTCAR.gz\",\n",
    "                               normalization=\"counts\",\n",
    "                               max_length=6,\n",
    "                               min_length=0,\n",
    "                               bin_width=0.1,\n",
    "                               are_cobis=False,\n",
    "                               are_coops=False)\n",
    "\n",
    "bwdf = feat_icoxx.calc_bwdf() # this method will compute the BWDF for the entire structure and all unique atom pairs"
   ]
  },
  {
   "cell_type": "code",
   "execution_count": null,
   "id": "cf8dc25a-3606-4ace-a5c4-ef21695ce4d9",
   "metadata": {},
   "outputs": [],
   "source": [
    "# getting data required for plotting (important to transform the data required by the plotter)\n",
    "plot_bwdf_data = IcohpDistancePlotter.bwdf_data_to_plot(bwdf) "
   ]
  },
  {
   "cell_type": "code",
   "execution_count": null,
   "id": "86d0b3c8-aaf5-463e-8078-867ed6ae730e",
   "metadata": {},
   "outputs": [],
   "source": [
    "# Plotting\n",
    "icohp_plotter = IcohpDistancePlotter(are_cobis=False, are_coops=False) # If reading and plotting ICOBIs or ICOOPs set args accordingly\n",
    "icohp_plotter.add_bwdf(label=\"CdF2\", bwdf=plot_bwdf_data)\n",
    "icohp_plotter.get_bwdf_plot(sigma=0.3);"
   ]
  },
  {
   "cell_type": "code",
   "execution_count": null,
   "id": "2f27305d-e77f-4609-9940-1d36768d5069",
   "metadata": {},
   "outputs": [],
   "source": [
    "# One can also compute and plot BWDF for a single site of the structure\n",
    "bwdf = feat_icoxx.calc_site_bwdf(site_index=1)\n",
    "plot_bwdf_data = IcohpDistancePlotter.bwdf_data_to_plot(bwdf) # transform the data for plotting\n",
    "\n",
    "# Plotting\n",
    "icohp_plotter = IcohpDistancePlotter(are_cobis=False, are_coops=False) # If reading and plotting ICOBIs or ICOOPs set args accordingly\n",
    "icohp_plotter.add_bwdf(label=\"CdF2\", bwdf=plot_bwdf_data)\n",
    "icohp_plotter.get_bwdf_plot(sigma=0.3);"
   ]
  },
  {
   "cell_type": "markdown",
   "id": "eb17675e",
   "metadata": {},
   "source": [
    "### Plot DOS from Lobster"
   ]
  },
  {
   "cell_type": "code",
   "execution_count": null,
   "id": "a9354732",
   "metadata": {
    "tags": [
     "remove-cell"
    ]
   },
   "outputs": [],
   "source": [
    "# Load Lobster DOS\n",
    "directory = Path(\".\") / \"..\" / \"..\" / \"tests\" / \"test_data\" / \"NaCl_comp_range\"\n",
    "dos = Doscar(doscar=directory / 'DOSCAR.lobster.gz',\n",
    "             structure_file=directory / 'CONTCAR.gz')"
   ]
  },
  {
   "cell_type": "markdown",
   "id": "9ad3c82c",
   "metadata": {},
   "source": [
    "```python\n",
    "# Load Lobster DOS (Change this cell block type to Code when executing locally)\n",
    "directory = Path(\"LobsterPy\") / \"tests\" / \"test_data\" / \"NaCl_comp_range\"\n",
    "dos = Doscar(doscar=directory / 'DOSCAR.lobster.gz',\n",
    "             structure_file=directory / 'CONTCAR.gz')\n",
    "```"
   ]
  },
  {
   "cell_type": "markdown",
   "id": "dd6698b2",
   "metadata": {},
   "source": [
    "Plot total, element and spd dos"
   ]
  },
  {
   "cell_type": "code",
   "execution_count": null,
   "id": "a271f2f0",
   "metadata": {},
   "outputs": [],
   "source": [
    "style.use('default') # Complete reset the matplotlib figure style\n",
    "style.use(get_style_list()[0]) # Use the LobsterPy style sheet for the generated plots\n",
    "\n",
    "dos_plotter = PlainDosPlotter(summed=True, stack=False, sigma=None)\n",
    "dos_plotter.add_dos(dos=dos.completedos, label='Total DOS')\n",
    "dos_plotter.add_dos_dict(dos_dict=dos.completedos.get_element_dos()) # Add element dos\n",
    "dos_plotter.add_dos_dict(dos_dict=dos.completedos.get_spd_dos()) # add spd dos\n",
    "dos_plotter.get_plot(xlim=[-10, 3]);"
   ]
  },
  {
   "cell_type": "markdown",
   "id": "fb06692b",
   "metadata": {},
   "source": [
    "Plotting DOS at particular site and orbital"
   ]
  },
  {
   "cell_type": "code",
   "execution_count": null,
   "id": "dbd469bc",
   "metadata": {},
   "outputs": [],
   "source": [
    "dos_plotter = PlainDosPlotter(summed=True, stack=False, sigma=0.03)\n",
    "dos_plotter.add_site_orbital_dos(dos = dos.completedos, site_index=0, orbital='3s')\n",
    "dos_plotter.get_plot(xlim=[-10, 3]);"
   ]
  },
  {
   "cell_type": "markdown",
   "id": "28d5c5ee",
   "metadata": {},
   "source": [
    "## Generate structure graph objects with LOBSTER data"
   ]
  },
  {
   "cell_type": "code",
   "execution_count": null,
   "id": "9d9a4a6a",
   "metadata": {},
   "outputs": [],
   "source": [
    "from lobsterpy.structuregraph.graph import LobsterGraph"
   ]
  },
  {
   "cell_type": "markdown",
   "id": "57c584bf",
   "metadata": {},
   "source": [
    "Below code snippet will generate a networkx graph object with ICOHP, ICOOP, and ICOBI data as edge properties and charges as node properties."
   ]
  },
  {
   "cell_type": "code",
   "execution_count": null,
   "id": "2e6a8da7",
   "metadata": {
    "tags": [
     "remove-cell"
    ]
   },
   "outputs": [],
   "source": [
    "graph_NaCl_all = LobsterGraph(\n",
    "    path_to_poscar=directory / \"CONTCAR.gz\",\n",
    "    path_to_charge=directory / \"CHARGE.lobster.gz\",\n",
    "    path_to_cohpcar=directory / \"COHPCAR.lobster.gz\",\n",
    "    path_to_icohplist=directory / \"ICOHPLIST.lobster.gz\",\n",
    "    add_additional_data_sg=True,\n",
    "    path_to_icooplist=directory / \"ICOOPLIST.lobster.gz\",\n",
    "    path_to_icobilist=directory / \"ICOBILIST.lobster.gz\",\n",
    "    path_to_madelung=directory / \"MadelungEnergies.lobster.gz\",\n",
    "    which_bonds=\"all\",\n",
    "    start=None,\n",
    ")"
   ]
  },
  {
   "cell_type": "markdown",
   "id": "a72e86f1",
   "metadata": {},
   "source": [
    "```python\n",
    "#### (Change this cell block type to Code or copy it from here when executing locally)\n",
    "graph_NaCl_all = LobsterGraph(\n",
    "    path_to_poscar=directory / \"CONTCAR.gz\",\n",
    "    path_to_charge=directory / \"CHARGE.lobster.gz\",\n",
    "    path_to_cohpcar=directory / \"COHPCAR.lobster.gz\",\n",
    "    path_to_icohplist=directory / \"ICOHPLIST.lobster.gz\",\n",
    "    add_additional_data_sg=True,\n",
    "    path_to_icooplist=directory / \"ICOOPLIST.lobster.gz\",\n",
    "    path_to_icobilist=directory / \"ICOBILIST.lobster.gz\",\n",
    "    path_to_madelung=directory / \"MadelungEnergies.lobster.gz\",\n",
    "    which_bonds=\"all\",\n",
    "    start=None,\n",
    ")\n",
    "```"
   ]
  },
  {
   "cell_type": "code",
   "execution_count": null,
   "id": "b70d9131",
   "metadata": {},
   "outputs": [],
   "source": [
    "graph_NaCl_all.sg.graph.nodes.data() # view node data"
   ]
  },
  {
   "cell_type": "code",
   "execution_count": null,
   "id": "d15e116e",
   "metadata": {},
   "outputs": [],
   "source": [
    "graph_NaCl_all.sg.graph.edges.data() # view edge data"
   ]
  },
  {
   "cell_type": "markdown",
   "id": "42fcafa3",
   "metadata": {},
   "source": [
    "## Featurizer usage examples (Generates features from LOBSTER data for ML studies)"
   ]
  },
  {
   "cell_type": "markdown",
   "id": "8a590062",
   "metadata": {},
   "source": [
    ":::{note}\n",
    "To use the batch featurizers, the path to the parent directory containing LOBSTER calculation outputs needs to be provided. For example, your directory structure needs to be like this:\n",
    "\n",
    "parent_dir/lobster_calc_output_dir_for_compound_1/\n",
    "parent_dir/lobster_calc_output_dir_for_compound_2/\n",
    "parent_dir/lobster_calc_output_dir_for_compound_3/\n",
    "\n",
    "the `lobster_calc_output_dir_for_compound_*` directory should contain all your LOBSTER outputs and POSCAR file.\n",
    "\n",
    "In such a case `path_to_lobster_calcs=\"parent_dir\"` needs to be set \n",
    ":::"
   ]
  },
  {
   "cell_type": "code",
   "execution_count": null,
   "id": "033a1f84",
   "metadata": {},
   "outputs": [],
   "source": [
    "from lobsterpy.featurize.batch import (BatchCoxxFingerprint, BatchIcoxxlistFeaturizer, BatchDosFeaturizer,\n",
    "                                       BatchSummaryFeaturizer, BatchStructureGraphs)"
   ]
  },
  {
   "cell_type": "markdown",
   "id": "1eb06be7",
   "metadata": {},
   "source": [
    "### BatchCoxxFingerprint"
   ]
  },
  {
   "cell_type": "markdown",
   "id": "1ed1a472",
   "metadata": {},
   "source": [
    "`BatchCoxxFingerprint` provides a convenient way to directly generate fingerprint objects from COHP / COBI/ COOPCAR.lobster data. Generating fingerprints specifically for `bonding`, `antibonding`, and `overall` interactions is feasible. \n",
    "\n",
    "One can also generate a pair-wise fingerprint similarity matrix dataframe (currently, only simple vector dot product or Tanimoto index are implemented)\n"
   ]
  },
  {
   "cell_type": "code",
   "execution_count": null,
   "id": "657d3eb2",
   "metadata": {
    "tags": [
     "remove-cell"
    ]
   },
   "outputs": [],
   "source": [
    "# Initialize the batch COXX featurizer \n",
    "fp_cohp_bonding = BatchCoxxFingerprint(\n",
    "            path_to_lobster_calcs=directory / \"..\" / \"Featurizer_test_data\" / \"Lobster_calcs\",\n",
    "            e_range=[-15, 0], \n",
    "            feature_type=\"bonding\",\n",
    "            normalize=True, # affects only the fingerprint similarity matrix computation\n",
    "            tanimoto=True, # affects only the fingerprint similarity matrix computation\n",
    "            n_jobs=3,\n",
    "        fingerprint_for='cohp' # changing this to cobi/coop will result in reading cobicar/coopcar file\n",
    "        )"
   ]
  },
  {
   "cell_type": "markdown",
   "id": "d3c68947",
   "metadata": {},
   "source": [
    "```python\n",
    "## Initialize batch COXX featurizer (Change this cell block type to Code and remove formatting when executing locally)\n",
    "fp_cohp_bonding = BatchCoxxFingerprint(\n",
    "    path_to_lobster_calcs=directory / \"..\" / \"Featurizer_test_data\" / \"Lobster_calcs\",\n",
    "    e_range=[-15, 0], \n",
    "    feature_type=\"bonding\",\n",
    "    normalize=True, # affects only the fingerprint similarity matrix computation\n",
    "    tanimoto=True, # affects only the fingerprint similarity matrix computation\n",
    "    n_jobs=3,\n",
    "    fingerprint_for='cohp' # changing this to cobi/coop will result in reading cobicar/coopcar file\n",
    ")\n",
    "```"
   ]
  },
  {
   "cell_type": "code",
   "execution_count": null,
   "id": "1e1fd1d0",
   "metadata": {
    "scrolled": true
   },
   "outputs": [],
   "source": [
    "# Access the fingerprints dataframe\n",
    "fp_cohp_bonding.fingerprint_df"
   ]
  },
  {
   "cell_type": "code",
   "execution_count": null,
   "id": "d54090e3",
   "metadata": {},
   "outputs": [],
   "source": [
    "# Get the fingerprints similarity matrix\n",
    "fp_cohp_bonding.get_similarity_matrix_df()"
   ]
  },
  {
   "cell_type": "markdown",
   "id": "a5220531c2082185",
   "metadata": {},
   "source": [
    "### BatchIcoxxlistFeaturizer"
   ]
  },
  {
   "cell_type": "markdown",
   "id": "9de31478633c9afc",
   "metadata": {},
   "source": [
    "`BatchIcoxxlistFeaturizer` provides a convenient way to extract BWDF as features from the LOBSTER calculation directory. The extracted features consist of the following:\n",
    "\n",
    "1. BWDF mean, standard deviation , skewness, kurtosis, weighted mean, and weighted standard deviation\n",
    "2. Complete BWDF as columns in the dataframe\n",
    "3. BWDF values sorted by bond distances as columns in the dataframe\n",
    "4. Bond distances sorted by BWDF values as columns in the dataframe"
   ]
  },
  {
   "cell_type": "code",
   "execution_count": null,
   "id": "2ed6793640da4fac",
   "metadata": {},
   "outputs": [],
   "source": [
    "# Initialize the batch ICOXXLIST featurizer\n",
    "batch_icohp = BatchIcoxxlistFeaturizer(path_to_lobster_calcs=directory / \"..\" / \"Featurizer_test_data\" / \"Lobster_calcs\", # path to parent lobster calcs\n",
    "            normalization=\"formula_units\", # will normalize the BWDF values by formula units\n",
    "            max_length=6, # maximum bond length for BWDF computation\n",
    "            bin_width=0.1, # sets number for bins\n",
    "            bwdf_df_type=\"stats\", # Type of BWDF dataframe to generate (stats, binned, sorted_bwdf, sorted_dists)\n",
    "            read_icobis=False, # set to true to read ICOBI data\n",
    "            read_icoops=False, # set to true to read ICOOP data\n",
    "            n_jobs=3,)"
   ]
  },
  {
   "cell_type": "markdown",
   "id": "b3111a3881b29058",
   "metadata": {},
   "source": [
    "```python\n",
    "## Initialize batch ICOXXLIST featurizer (Change this cell block type to Code and remove formatting when executing locally)\n",
    "batch_icohp = BatchIcoxxlistFeaturizer(path_to_lobster_calcs=directory / \"..\" / \"Featurizer_test_data\" / \"Lobster_calcs\", # path to parent lobster calcs\n",
    "            normalization=\"formula_units\", # will normalize the BWDF values by formula units\n",
    "            max_length=6, # maximum bond length for BWDF computation\n",
    "            bin_width=0.1, # sets number for bins\n",
    "            bwdf_df_type=\"stats\", # Type of BWDF dataframe to generate (stats, binned, sorted_bwdf, sorted_dists)\n",
    "            read_icobis=False, # set to true to read ICOBI data\n",
    "            read_icoops=False, # set to true to read ICOOP data\n",
    "            n_jobs=3,)\n",
    "```"
   ]
  },
  {
   "cell_type": "code",
   "execution_count": null,
   "id": "7c731fe3e32065be",
   "metadata": {},
   "outputs": [],
   "source": [
    "# get the BWDF stats df\n",
    "batch_icohp.get_df()"
   ]
  },
  {
   "cell_type": "markdown",
   "id": "4bf34582",
   "metadata": {},
   "source": [
    "### BatchDosFeaturizer"
   ]
  },
  {
   "cell_type": "markdown",
   "id": "6a98975c",
   "metadata": {},
   "source": [
    "`BatchDosFeaturizer` provides a convenient way to extract LOBSTER DOS moment features and fingerprints in the form of pandas dataframe from the LOBSTER calculation directory. The extracted features consist of the following:\n",
    "\n",
    "\n",
    "1. Element and PDOS center, width, skewness, kurtosis, and edges \n",
    "2. PDOS or total DOS fingerprint objects"
   ]
  },
  {
   "cell_type": "code",
   "execution_count": null,
   "id": "57176d72",
   "metadata": {
    "tags": [
     "remove-cell"
    ]
   },
   "outputs": [],
   "source": [
    "# Initialize the batch DOS featurizer\n",
    "batch_dos = BatchDosFeaturizer(path_to_lobster_calcs=directory / \"..\" / \"Featurizer_test_data\" / \"Lobster_calcs\", # path to parent lobster calcs\n",
    "            use_lso_dos=True, # will enforce using DOSCAR.LSO.lobster\n",
    "            add_element_dos_moments=True, # set to false to not have element moments dos features \n",
    "            e_range=None, # setting this to none results in features computed for the entire energy range \n",
    "            fingerprint_type=\"summed_pdos\", # fingerprint type (s,p,d,f, summed_pdos)\n",
    "            n_bins=256,\n",
    "            n_jobs=3,)"
   ]
  },
  {
   "cell_type": "markdown",
   "id": "cc9f8bf9",
   "metadata": {},
   "source": [
    "```python\n",
    "## Initialize batch DOS featurizer (Change this cell block type to Code and remove formatting when executing locally)\n",
    "batch_dos = BatchDosFeaturizer(path_to_lobster_calcs=directory / \"..\" / \"Featurizer_test_data\" / \"Lobster_calcs\", # path to parent lobster calcs\n",
    "            use_lso_dos=True, # will enforce using DOSCAR.LSO.lobster\n",
    "            add_element_dos_moments=True, # set to false to not have element moments dos features \n",
    "            e_range=None, # setting this to none results in features computed for the entire energy range \n",
    "            fingerprint_type=\"summed_pdos\", # fingerprint type (s,p,d,f, summed_pdos)\n",
    "            n_bins=256,\n",
    "            n_jobs=3,)\n",
    "```"
   ]
  },
  {
   "cell_type": "code",
   "execution_count": null,
   "id": "94df0905",
   "metadata": {},
   "outputs": [],
   "source": [
    "# get the DOS moments df\n",
    "batch_dos.get_df()"
   ]
  },
  {
   "cell_type": "code",
   "execution_count": null,
   "id": "d2456f82",
   "metadata": {},
   "outputs": [],
   "source": [
    "# get the DOS fingerprints df\n",
    "batch_dos.get_fingerprints_df()"
   ]
  },
  {
   "cell_type": "markdown",
   "id": "87ad8083",
   "metadata": {},
   "source": [
    "### BatchSummaryFeaturizer"
   ]
  },
  {
   "cell_type": "markdown",
   "id": "d73b8bd3",
   "metadata": {},
   "source": [
    "`BatchSummaryFeaturizer` provides a convenient way to extract summary stats as pandas dataframe from the LOBSTER calculation directory. The summary stats consist of the following:\n",
    "\n",
    "1. ICOHP, bonding, antibonding percent (mean, min, max, standard deviation) of relevant bonds from LobsterPy analysis (Orbital-wise analysis stats data can also be included: Optional)\n",
    "2. Weighted ICOHP ( ICOOP/ ICOBI: Optional)\n",
    "3. COHP center, width, skewness, kurtosis, edge (COOP/ COBI: Optional)\n",
    "4. Ionicity and Madelung energies for the structure based on Mulliken and Loewdin charges"
   ]
  },
  {
   "cell_type": "code",
   "execution_count": null,
   "id": "7c05bae8",
   "metadata": {
    "tags": [
     "remove-cell"
    ]
   },
   "outputs": [],
   "source": [
    "# Initialize batch summary featurizer\n",
    "summary_features = BatchSummaryFeaturizer(\n",
    "            path_to_lobster_calcs=directory / \"..\" / \"Featurizer_test_data\" / \"Lobster_calcs\",\n",
    "            bonds=\"all\",\n",
    "            include_cobi_data=False,\n",
    "            include_coop_data=False,\n",
    "            e_range=[-15, 0],\n",
    "            n_jobs=3,\n",
    "        )"
   ]
  },
  {
   "cell_type": "markdown",
   "id": "90808106",
   "metadata": {
    "scrolled": false
   },
   "source": [
    "```python\n",
    "## Initialize batch summary featurizer (Change this cell block type to Code and remove formatting when executing locally)\n",
    "summary_features = BatchSummaryFeaturizer(\n",
    "            path_to_lobster_calcs=directory / \"..\" / \"Featurizer_test_data\" / \"Lobster_calcs\",\n",
    "            bonds=\"all\",\n",
    "            include_cobi_data=False,\n",
    "            include_coop_data=False,\n",
    "            e_range=[-15, 0],\n",
    "            n_jobs=3,\n",
    "        )\n",
    "```"
   ]
  },
  {
   "cell_type": "code",
   "execution_count": null,
   "id": "9b49fcf7",
   "metadata": {},
   "outputs": [],
   "source": [
    "# get summary stats features \n",
    "summary_features.get_df()"
   ]
  },
  {
   "cell_type": "markdown",
   "id": "e21c5dc2",
   "metadata": {},
   "source": [
    "### BatchStructureGraphs"
   ]
  },
  {
   "cell_type": "markdown",
   "id": "b11d4652",
   "metadata": {},
   "source": [
    "`BatchStructureGraphs` provides a convenient way to generate structure graph objects with LOBSTER data in the form of pandas dataframe from a set of the LOBSTER calculation directories."
   ]
  },
  {
   "cell_type": "code",
   "execution_count": null,
   "id": "2d40b39a",
   "metadata": {
    "tags": [
     "remove-cell"
    ]
   },
   "outputs": [],
   "source": [
    "batch_sg = BatchStructureGraphs(path_to_lobster_calcs=directory / \"..\" / \"Featurizer_test_data\" / \"Lobster_calcs\",\n",
    "                                add_additional_data_sg=True,\n",
    "                                which_bonds='all',\n",
    "                                n_jobs=3,\n",
    "                                start=None)"
   ]
  },
  {
   "cell_type": "markdown",
   "id": "ac1c776a",
   "metadata": {},
   "source": [
    "```python\n",
    "## Initialize batch structure graphs featurizer (Change this cell block type to Code and remove formatting when executing locally)\n",
    "batch_sg = BatchStructureGraphs(path_to_lobster_calcs=directory / \"..\" / \"Featurizer_test_data\" / \"Lobster_calcs\",\n",
    "                                add_additional_data_sg=True,\n",
    "                                which_bonds='all',\n",
    "                                n_jobs=3,\n",
    "                                start=None)\n",
    "```"
   ]
  },
  {
   "cell_type": "code",
   "execution_count": null,
   "id": "5f7259c0",
   "metadata": {},
   "outputs": [],
   "source": [
    "# get the structure graphs df\n",
    "batch_sg.get_df()"
   ]
  }
 ],
 "metadata": {
  "celltoolbar": "Raw Cell Format",
  "hide_input": false,
  "kernelspec": {
   "display_name": "Python 3 (ipykernel)",
   "language": "python",
   "name": "python3"
  },
  "language_info": {
   "codemirror_mode": {
    "name": "ipython",
    "version": 3
   },
   "file_extension": ".py",
   "mimetype": "text/x-python",
   "name": "python",
   "nbconvert_exporter": "python",
   "pygments_lexer": "ipython3",
   "version": "3.10.14"
  },
  "widgets": {
   "application/vnd.jupyter.widget-state+json": {
    "state": {},
    "version_major": 2,
    "version_minor": 0
   }
  }
 },
 "nbformat": 4,
 "nbformat_minor": 5
}
