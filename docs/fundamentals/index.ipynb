{
 "cells": [
  {
   "cell_type": "markdown",
   "id": "e4746f4b",
   "metadata": {},
   "source": [
    "# Fundamental Aspects\n",
    "\n",
    "This document aims to provide an overview of important algorithms and implementations that should help users understand the results one obtains from LobsterPy."
   ]
  },
  {
   "cell_type": "markdown",
   "id": "50cc984c",
   "metadata": {},
   "source": [
    ":::{important}\n",
    "In the following sections the implementations are described using ICOHPs/COHPs. \n",
    "\n",
    "It is implied that the procedure followed is the same even for analyzing and curating features for ML for ICOOPs/COOPs or ICOBIs/COBIs.\n",
    ":::"
   ]
  },
  {
   "cell_type": "markdown",
   "id": "43408e8b",
   "metadata": {},
   "source": [
    "## LobsterEnv : Detect coordination environments based on the electronic structure"
   ]
  },
  {
   "cell_type": "markdown",
   "id": "efcea299",
   "metadata": {},
   "source": [
    ":::{admonition} New in LobsterEnv\n",
    ":class: versionadded\n",
    "* Can handle ICOBIs and ICOOPs to detect co-ordination environments and relevant bonds.\n",
    "* Provide structure graphs with ICOHPs/ ICOBIs/ ICOOPs as edge properties\n",
    ":::\n",
    "\n",
    "Lobsterenv is the central algorithm on which LobsterPy depends for automatic bonding analysis. \n",
    "\n",
    "Below is a schematic depicting how this algorithm works. The image is from a talk given by Prof. Dr. George at [MC16 2023 Dublin](https://opus4.kobv.de/opus4-bam/frontdoor/index/index/start/0/rows/10/sortfield/year/sortorder/desc/searchtype/simple/query/George/author_facetfq/George%2C+Janine/doctypefq/lecture/docId/57876)  \n",
    "\n",
    "![Schema depicting working of LobsterEnv algorithm](fundamentals_assets/LobsterEnv_schema.png)\n",
    "\n",
    "Unlike purely geometry-based algorithms, e.g., Voronoi construction, which depends on angle and distance cutoffs, LobsterEnv needs only one parameter that influences neighbor selection, i.e., ICOHPs.\n",
    "\n",
    "Thus, when running automatic analysis using the Analysis module, `cutoff_icohp` is the parameter to be paid attention to. This value is set to 10% by default. This means that, depending on the type of bond (cation-anion or all), only ICOHPs with a value of more than 10% of the largest ICOHPs (this value also changes depending on the type of bonds considered for analysis, cation-anion/all bonds) are considered in the analysis.\n",
    "\n",
    "The `noise_cutoff` parameter takes care of numerical noise, which always exists in theoretical computations. So, ICOHPs, which are negligible, will not be considered in the bonding analysis.\n",
    "\n",
    ":::{caution}\n",
    "So far LobsterEnv has only been tested for ICOHPs. ICOOP and ICOBI implementations are recently added.\n",
    ":::\n",
    "\n",
    ":::{seealso}\n",
    ":class: dropdown\n",
    "\n",
    "Please refer to the following sources for `ChemEnv` and `LobsterEnv` for more details on these algorithms.\n",
    "\n",
    "* [D. Waroquiers, J. George, M. Horton, S. Schenk, K. A. Persson, G.-M. Rignanese, X. Gonze, G. Hautier, Acta Cryst B 2020, 76, 683–695.](https://scripts.iucr.org/cgi-bin/paper?S2052520620007994)\n",
    "* [J. George, G. Petretto, A. Naik, M. Esters, A. J. Jackson, R. Nelson, R. Dronskowski, G.-M. Rignanese, G. Hautier, ChemPlusChem 2022, e202200123](https://chemistry-europe.onlinelibrary.wiley.com/doi/full/10.1002/cplu.202200123)\n",
    ":::"
   ]
  },
  {
   "cell_type": "markdown",
   "id": "44546121",
   "metadata": {},
   "source": [
    "## Evaluating bonding and anti-bonding percentages"
   ]
  },
  {
   "cell_type": "markdown",
   "id": "a81a04cc",
   "metadata": {},
   "source": [
    "LobsterPy follows the following steps to evaluate the bonding and anti-bonding percentages at each symmetrically independent site:\n",
    "\n",
    "1. All the relevant bonds are identified for the site in the structure using ICOHPs via LobsterEnv (bond labels from `ICOHPLIST.lobster` are also stored, along with ICOHP values).\n",
    "2. Read the COHP data from `COHPCAR.lobster` corresponding to bond labels from step 1 and get summed COHPs data for each site separately.\n",
    "3. Perform numerical integration of the summed COHPs at each site to evaluate the bonding and antibonding integral and percentages below efermi.\n",
    "4. One can also set the `start` parameter when initializing the Analysis class object to set the start point of energy range below efermi for the integration. (Optional and useful if one wants to look at specific energy range below efermi)\n",
    "\n",
    "Below is a visual depiction of the evaluation of bonding percentage (Step 3) from COHP data for a site.\n",
    "\n",
    "![Bonding percentage evaluation](fundamentals_assets/bonding_percentage.png)\n",
    "\n",
    "Similarly, the antibonding percentage is evaluated for the site from the COHP data.\n",
    "\n",
    ":::{note}\n",
    "Ideally, the $(bonding-antibonding) $ integral values should equal the summed ICOHP values at each site. However, as it is a known fact, numerical integration is bound to have some errors. Thus, we might not see this corroborate well for all cases.\n",
    "\n",
    "Another crucial factor influencing the results of the numerical integration is the number of points on which the integration is performed. Thus, having a finer grid, i.e., setting `COHPSteps` to `2000` or more in your LOBSTER run, will help one get better estimates. From our experience, setting `COHPSteps` to `10000` provided very consistent results. (Be mindful that the sizes of files generated from such setting can become quite large depending on the complexity of the structure)\n",
    "\n",
    "Also, it is important to note that the ICOHP values from `ICOHPLIST.lobster` consider the entire range below efermi. Thus, if the `COHPCAR.lobster` is not computed for the entire energy range below efermi, then your results will also not corroborate to the summed ICOHPs at the site.\n",
    ":::"
   ]
  },
  {
   "cell_type": "markdown",
   "id": "6094b839",
   "metadata": {},
   "source": [
    "## Automatic orbital-wise analysis implementation"
   ]
  },
  {
   "cell_type": "markdown",
   "id": "82d92b02",
   "metadata": {},
   "source": [
    "LobsterPy follows the following steps to evaluate the relevant orbitals contributing to the bonds automatically. Steps 1 to 3 are identical to the **Evaluating bonding and anti-bonding percentages**. Thus, for brevity, we will not relist them here and only list the steps further. The steps mentioned below are repeated for each symmetrically independent site:\n",
    "\n",
    "4. Read the list of available orbitals from `COHPCAR.lobster` at the site\n",
    "5. Get summed cohps for each orbital using the bond label list (step 1)\n",
    "6. Check if the total bonding and antibonding integrals obtained in step 3 are each greater than 0\n",
    "7. Evaluate the bonding integral (area under the curve) from COHP data for each orbital and store these values in two lists. One will have orbital pair names, and the other will have corresponding evaluated bonding integrals. Similarly, create two more lists with antibonding orbital pair names and corresponding antibonding integrals.\n",
    "8. Evaluate the orbital contribution percentages using the following formula:\n",
    "\n",
    "$$\\text{(Anti) bonding contribution for each orbital}=\\frac{\\text{each orbital (anti)bonding integral}}{\\text{sum(orbital (anti)bonding integral)}}$$\n",
    "\n",
    "9. If the orbital contribution is more than the `orbital_cutoff` set in the Analysis class object, include that orbital pair interaction as relevant (do this for bonding and antibonding separately using contribution percentages as evaluated in step 8.\n",
    "10. Get max anti(bonding) contribution using contribution percentages evaluated in step 8 and add it to the orbital summary dict (this dict is used in description text output generation). \n",
    "\n",
    "As mentioned in step 9, the results will vary a lot depending on the `orbital_cutoff` set when initializing the Analysis class object. The default value is set to 0.05 (i.e. 5%).\n",
    "\n",
    "Below is a visual depiction of the evaluation of orbital contribution percentage (Step 7) from summed orbital COHP data for a site. Subfigure (a) and (b) depict the evaluation of orbital contribution for bonding and antibonding interactions relative to summed orbital COHPs at the site.\n",
    "\n",
    "![Orbital contribution percentage evaluation](fundamentals_assets/orbital_wise_illustration.png)\n"
   ]
  },
  {
   "cell_type": "markdown",
   "id": "6f631f31",
   "metadata": {},
   "source": [
    "## Features curated for ML via Featurizer"
   ]
  },
  {
   "cell_type": "markdown",
   "id": "e5952139",
   "metadata": {},
   "source": [
    "### DOS based features"
   ]
  },
  {
   "cell_type": "markdown",
   "id": "f215c734",
   "metadata": {},
   "source": [
    "<h4><center>Moment based features</center></h4>\n",
    "\n",
    "These features are implemented for DOS in [pymatgen](https://github.com/materialsproject/pymatgen/tree/master) by Rosen et.al. as part of their [A. S. Rosen, S. Vijay, K. A. Persson, Chem. Sci. 2023, 14, 1503–1511.](https://pubs.rsc.org/en/content/articlelanding/2023/SC/D2SC05772G) work\n",
    "\n",
    "\n",
    "1. [Center](https://github.com/materialsproject/pymatgen/blob/2ccbfa16cbffb1016501c18117e70a3f96a83de2/pymatgen/electronic_structure/dos.py#L833)\n",
    "2. [Width](https://github.com/materialsproject/pymatgen/blob/2ccbfa16cbffb1016501c18117e70a3f96a83de2/pymatgen/electronic_structure/dos.py#L862)\n",
    "3. [Skewness](https://github.com/materialsproject/pymatgen/blob/2ccbfa16cbffb1016501c18117e70a3f96a83de2/pymatgen/electronic_structure/dos.py#L889)\n",
    "4. [Kurtosis](https://github.com/materialsproject/pymatgen/blob/2ccbfa16cbffb1016501c18117e70a3f96a83de2/pymatgen/electronic_structure/dos.py#L919)\n",
    "5. [Edge](https://github.com/materialsproject/pymatgen/blob/2ccbfa16cbffb1016501c18117e70a3f96a83de2/pymatgen/electronic_structure/dos.py#L1056)\n",
    "\n",
    "The $n^{th}$ moment for projected dos (PDOS) is computed using following relation\n",
    "\n",
    "$n^{th}_{moment} = \\frac{\\int (p^n \\cdot \\text{PDOS} \\, dE)}{\\int \\text{PDOS} \\, dE}$\n",
    "\n",
    "The resulting $1^{st}$, $2^{nd}$, $3^{rd}$ and $4^{th}$ moment are named as *_band_center, *_band_width, *_band_skew, *_band_kurtosis, respectively. Here `*` denotes the orbital names, namely `s,p,d, or f`.\n",
    "\n",
    "Similar features for elements can also be obtained, element DOS will be used instead of PDOS. Please check the tutorials for example usage.\n",
    "\n",
    ":::{seealso}\n",
    ":class: dropdown\n",
    "\n",
    "Please refer to the following sources for more details on these.\n",
    "\n",
    "* [B. Hammer, J. K. Nørskov, Surface Science 1995, 343, 211–220.](https://doi.org/10.1016/0039-6028(96)80007-0)\n",
    "* [H. Xin, A. Vojvodic, J. Voss, J. K. Nørskov, F. Abild-Pedersen, Phys. Rev. B 2014, 89, 115114.](https://doi.org/10.1103/PhysRevB.89.115114)\n",
    ":::\n",
    "\n",
    "<h4><center>Fingerprints</center></h4>\n",
    "\n",
    "DOS [Fingerprints](https://github.com/materialsproject/pymatgen/blob/2ccbfa16cbffb1016501c18117e70a3f96a83de2/pymatgen/electronic_structure/dos.py#L1093) are basically DOS data discretized into histograms that will allow to compute similarity between DOS/PDOS of different materials numerically.\n",
    "\n",
    "This feature was implemented in [pymatgen](https://github.com/materialsproject/pymatgen/tree/master) as part of our LOBSTER database publication [A. A. Naik, C. Ertural, N. Dhamrait, P. Benner, J. George, Sci Data 2023, 10, 610.](https://www.nature.com/articles/s41597-023-02477-5)"
   ]
  },
  {
   "cell_type": "markdown",
   "id": "8f8f7deb",
   "metadata": {},
   "source": [
    "### COXX based features (COXX: COHP / COBI / COOP)"
   ]
  },
  {
   "cell_type": "markdown",
   "id": "ffd726d1",
   "metadata": {},
   "source": [
    "<h4><center>Average features</center></h4>\n",
    "\n",
    "The below mentioned features are implemented based on the work of \n",
    "\n",
    "[R. Nelson, C. Ertural, P. C. Müller, R. Dronskowski, in Compr. Inorg. Chem. III, Elsevier, 2023, pp. 141–201.](https://linkinghub.elsevier.com/retrieve/pii/B9780128231449001205)\n",
    "\n",
    "\n",
    "The $\\overline{\\mathrm{ICOHP}}$ can be interpreted as the average bond strength inside the given material.\n",
    "\n",
    "$\\overline{\\mathrm{COHP}}(E) =\\sum_i\\left(w_i \\cdot \\operatorname{COHP}_i(E)\\right)$ \n",
    "\n",
    "$w_i =\\frac{\\mathrm{ICOHP}_i}{\\mathrm{ICOHP}_{\\text {total}}}$\n",
    "\n",
    "$\\overline{\\mathrm{ICOHP}}=\\int_{-\\infty}^{\\varepsilon_{\\mathrm{F}}} \\overline{\\mathrm{COHP}}(E) \\mathrm{d}E $\n",
    "\n",
    "The EIN is comparable to a coordination number\n",
    "\n",
    "$\\mathrm{EIN}=\\frac{\\mathrm{ICOHP}_{\\text {total }}}{\\overline{\\mathrm{ICOHP}}} \\cdot \\frac{2}{N_{\\text {Atoms }}}$\n"
   ]
  },
  {
   "cell_type": "markdown",
   "id": "b486f6f8",
   "metadata": {},
   "source": [
    "<h4><center>Moment based features and fingerprints </center></h4>\n",
    "\n",
    "These features are inspired from the features implemented for DOS in [pymatgen](https://github.com/materialsproject/pymatgen/tree/master) as described in DOS based features section above. Following features are accessible\n",
    "1. Center\n",
    "2. Width\n",
    "3. Skewness\n",
    "4. Kurtosis\n",
    "5. Edge\n",
    "6. Fingerprints\n",
    "\n",
    "For the case of COXXs, the $n^{th}$ moment is computed using following relation\n",
    "\n",
    "$n^{th}_{moment} = \\frac{\\int (p^n \\cdot \\text{COXXs} \\, dE)}{\\int \\text{COXXs} \\, dE}$\n",
    "\n",
    "The resulting $1^{st}$, $2^{nd}$, $3^{rd}$ and $4^{th}$ moment are named as center_COXX, width_COXX, skewness_COXX, kurtosis_COXX, respectively.\n",
    "\n",
    "To generate COXX fingerprints we discretize COXX data into histograms that will allow to compute similarity between COXX curves of different materials numerically.\n",
    "\n",
    ":::{tip}\n",
    "One can select the range of energy and type of interactions (bonding, antibonding, overall) one would like to compute these features.\n",
    ":::"
   ]
  },
  {
   "cell_type": "markdown",
   "id": "2a1f1a31",
   "metadata": {},
   "source": [
    "<h4><center>Summary stats features from LobsterPy condensed bonding analysis dicts</center></h4>\n",
    "\n",
    "These features were first implemented as part of our Database publication : [A. A. Naik, C. Ertural, N. Dhamrait, P. Benner, J. George, Sci. Data 2023, 10, 610.](https://doi.org/10.1038/s41597-023-02477-5)\n",
    "\n",
    "The source code can be found [here](https://github.com/naik-aakash/lobster-database-paper-analysis-scripts/blob/e274cc66fe5cdef981c9de0609eaba4368226c9a/ML_model/featurizer/lobster_featurizer.py#L33).\n",
    "\n",
    "This is code have been intergrated in our Package and it is extended to also work for COBI/COOP condensed bonding analysis dicts and can user can now also include orbital wise analysis summary stats (Optional)."
   ]
  },
  {
   "cell_type": "markdown",
   "id": "7d4e224f",
   "metadata": {},
   "source": [
    "### Charge based features\n",
    "\n",
    "As Ionicity quantifies the strength of an ionic bond in the compound, there are several approaches to quantify it. Here we use the formulation as per [R. Nelson, C. Ertural, P. C. Müller, R. Dronskowski, in Compr. Inorg. Chem. III, Elsevier, 2023, pp. 141–201.](https://linkinghub.elsevier.com/retrieve/pii/B9780128231449001205), which use following relation:   \n",
    "\n",
    "$I_{\\text {Charges }}=\\frac{1}{N_{\\text {Atoms }}} \\sum_i^{N_{\\text {Atoms }}}\\left(\\frac{q_i}{v_{\\text {eff }, i}}\\right)$\n",
    "\n",
    "It is possible to compute ionicity based on above mentioned formula using either the Mulliken or Löwdin charges obtained from LOBSTER run."
   ]
  }
 ],
 "metadata": {
  "hide_input": false,
  "kernelspec": {
   "display_name": "Python 3 (ipykernel)",
   "language": "python",
   "name": "python3"
  },
  "language_info": {
   "codemirror_mode": {
    "name": "ipython",
    "version": 3
   },
   "file_extension": ".py",
   "mimetype": "text/x-python",
   "name": "python",
   "nbconvert_exporter": "python",
   "pygments_lexer": "ipython3",
   "version": "3.9.0"
  }
 },
 "nbformat": 4,
 "nbformat_minor": 5
}
